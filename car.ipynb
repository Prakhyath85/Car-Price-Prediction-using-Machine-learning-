{
 "cells": [
  {
   "cell_type": "code",
   "execution_count": 126,
   "id": "e2bd200f-cb01-4c23-a83a-530b0de5973c",
   "metadata": {},
   "outputs": [],
   "source": [
    "import numpy as np\n",
    "import pandas as pd\n",
    "import seaborn as sns\n",
    "import matplotlib.pyplot as plt\n"

   ]
  },
  {
   "cell_type": "code",
   "execution_count": 127,
   "id": "9c3d2323-f95f-4348-aad8-f7ac72692f6d",
   "metadata": {},
   "outputs": [
    {
     "data": {
      "text/html": [
       "<div>\n",
       "<style scoped>\n",
       "    .dataframe tbody tr th:only-of-type {\n",
       "        vertical-align: middle;\n",
       "    }\n",
       "\n",
       "    .dataframe tbody tr th {\n",
       "        vertical-align: top;\n",
       "    }\n",
       "\n",
       "    .dataframe thead th {\n",
       "        text-align: right;\n",
       "    }\n",
       "</style>\n",
       "<table border=\"1\" class=\"dataframe\">\n",
       "  <thead>\n",
       "    <tr style=\"text-align: right;\">\n",
       "      <th></th>\n",
       "      <th>ID</th>\n",
       "      <th>Price</th>\n",
       "      <th>Levy</th>\n",
       "      <th>Manufacturer</th>\n",
       "      <th>Model</th>\n",
       "      <th>Prod. year</th>\n",
       "      <th>Category</th>\n",
       "      <th>Leather interior</th>\n",
       "      <th>Fuel type</th>\n",
       "      <th>Engine volume</th>\n",
       "      <th>Mileage</th>\n",
       "      <th>Cylinders</th>\n",
       "      <th>Gear box type</th>\n",
       "      <th>Drive wheels</th>\n",
       "      <th>Doors</th>\n",
       "      <th>Wheel</th>\n",
       "      <th>Color</th>\n",
       "      <th>Airbags</th>\n",
       "    </tr>\n",
       "  </thead>\n",
       "  <tbody>\n",
       "    <tr>\n",
       "      <th>0</th>\n",
       "      <td>45654403</td>\n",
       "      <td>13328</td>\n",
       "      <td>1399</td>\n",
       "      <td>LEXUS</td>\n",
       "      <td>RX 450</td>\n",
       "      <td>2010</td>\n",
       "      <td>Jeep</td>\n",
       "      <td>Yes</td>\n",
       "      <td>Hybrid</td>\n",
       "      <td>3.5</td>\n",
       "      <td>186005 km</td>\n",
       "      <td>6.0</td>\n",
       "      <td>Automatic</td>\n",
       "      <td>4x4</td>\n",
       "      <td>04-May</td>\n",
       "      <td>Left wheel</td>\n",
       "      <td>Silver</td>\n",
       "      <td>12</td>\n",
       "    </tr>\n",
       "    <tr>\n",
       "      <th>1</th>\n",
       "      <td>44731507</td>\n",
       "      <td>16621</td>\n",
       "      <td>1018</td>\n",
       "      <td>CHEVROLET</td>\n",
       "      <td>Equinox</td>\n",
       "      <td>2011</td>\n",
       "      <td>Jeep</td>\n",
       "      <td>No</td>\n",
       "      <td>Petrol</td>\n",
       "      <td>3</td>\n",
       "      <td>192000 km</td>\n",
       "      <td>6.0</td>\n",
       "      <td>Tiptronic</td>\n",
       "      <td>4x4</td>\n",
       "      <td>04-May</td>\n",
       "      <td>Left wheel</td>\n",
       "      <td>Black</td>\n",
       "      <td>8</td>\n",
       "    </tr>\n",
       "    <tr>\n",
       "      <th>2</th>\n",
       "      <td>45774419</td>\n",
       "      <td>8467</td>\n",
       "      <td>-</td>\n",
       "      <td>HONDA</td>\n",
       "      <td>FIT</td>\n",
       "      <td>2006</td>\n",
       "      <td>Hatchback</td>\n",
       "      <td>No</td>\n",
       "      <td>Petrol</td>\n",
       "      <td>1.3</td>\n",
       "      <td>200000 km</td>\n",
       "      <td>4.0</td>\n",
       "      <td>Variator</td>\n",
       "      <td>Front</td>\n",
       "      <td>04-May</td>\n",
       "      <td>Right-hand drive</td>\n",
       "      <td>Black</td>\n",
       "      <td>2</td>\n",
       "    </tr>\n",
       "    <tr>\n",
       "      <th>3</th>\n",
       "      <td>45769185</td>\n",
       "      <td>3607</td>\n",
       "      <td>862</td>\n",
       "      <td>FORD</td>\n",
       "      <td>Escape</td>\n",
       "      <td>2011</td>\n",
       "      <td>Jeep</td>\n",
       "      <td>Yes</td>\n",
       "      <td>Hybrid</td>\n",
       "      <td>2.5</td>\n",
       "      <td>168966 km</td>\n",
       "      <td>4.0</td>\n",
       "      <td>Automatic</td>\n",
       "      <td>4x4</td>\n",
       "      <td>04-May</td>\n",
       "      <td>Left wheel</td>\n",
       "      <td>White</td>\n",
       "      <td>0</td>\n",
       "    </tr>\n",
       "    <tr>\n",
       "      <th>4</th>\n",
       "      <td>45809263</td>\n",
       "      <td>11726</td>\n",
       "      <td>446</td>\n",
       "      <td>HONDA</td>\n",
       "      <td>FIT</td>\n",
       "      <td>2014</td>\n",
       "      <td>Hatchback</td>\n",
       "      <td>Yes</td>\n",
       "      <td>Petrol</td>\n",
       "      <td>1.3</td>\n",
       "      <td>91901 km</td>\n",
       "      <td>4.0</td>\n",
       "      <td>Automatic</td>\n",
       "      <td>Front</td>\n",
       "      <td>04-May</td>\n",
       "      <td>Left wheel</td>\n",
       "      <td>Silver</td>\n",
       "      <td>4</td>\n",
       "    </tr>\n",
       "  </tbody>\n",
       "</table>\n",
       "</div>"
      ],
      "text/plain": [
       "         ID  Price  Levy Manufacturer    Model  Prod. year   Category  \\\n",
       "0  45654403  13328  1399        LEXUS   RX 450        2010       Jeep   \n",
       "1  44731507  16621  1018    CHEVROLET  Equinox        2011       Jeep   \n",
       "2  45774419   8467     -        HONDA      FIT        2006  Hatchback   \n",
       "3  45769185   3607   862         FORD   Escape        2011       Jeep   \n",
       "4  45809263  11726   446        HONDA      FIT        2014  Hatchback   \n",
       "\n",
       "  Leather interior Fuel type Engine volume    Mileage  Cylinders  \\\n",
       "0              Yes    Hybrid           3.5  186005 km        6.0   \n",
       "1               No    Petrol             3  192000 km        6.0   \n",
       "2               No    Petrol           1.3  200000 km        4.0   \n",
       "3              Yes    Hybrid           2.5  168966 km        4.0   \n",
       "4              Yes    Petrol           1.3   91901 km        4.0   \n",
       "\n",
       "  Gear box type Drive wheels   Doors             Wheel   Color  Airbags  \n",
       "0     Automatic          4x4  04-May        Left wheel  Silver       12  \n",
       "1     Tiptronic          4x4  04-May        Left wheel   Black        8  \n",
       "2      Variator        Front  04-May  Right-hand drive   Black        2  \n",
       "3     Automatic          4x4  04-May        Left wheel   White        0  \n",
       "4     Automatic        Front  04-May        Left wheel  Silver        4  "
      ]
     },
     "execution_count": 127,
     "metadata": {},
     "output_type": "execute_result"
    }
   ],
   "source": [
    "df=pd.read_csv(\"car_price_prediction.csv\")\n",
    "df.head()"
   ]
  },
  {
   "cell_type": "code",
   "execution_count": 128,
   "id": "3725a099-bfa6-4945-b662-5ce7c5de969b",
   "metadata": {},
   "outputs": [
    {
     "data": {
      "text/plain": [
       "(19237, 18)"
      ]
     },
     "execution_count": 128,
     "metadata": {},
     "output_type": "execute_result"
    }
   ],
   "source": [
    "df.shape"
   ]
  },
  {
   "cell_type": "code",
   "execution_count": 129,
   "id": "d29f41c6-af45-42a8-9b80-886ceb2faa2b",
   "metadata": {},
   "outputs": [
    {
     "data": {
      "text/plain": [
       "Index(['ID', 'Price', 'Levy', 'Manufacturer', 'Model', 'Prod. year',\n",
       "       'Category', 'Leather interior', 'Fuel type', 'Engine volume', 'Mileage',\n",
       "       'Cylinders', 'Gear box type', 'Drive wheels', 'Doors', 'Wheel', 'Color',\n",
       "       'Airbags'],\n",
       "      dtype='object')"
      ]
     },
     "execution_count": 129,
     "metadata": {},
     "output_type": "execute_result"
    }
   ],
   "source": [
    "df.columns"
   ]
  },
  {
   "cell_type": "code",
   "execution_count": 130,
   "id": "01a02c42-66b9-493d-912b-67ea35e50676",
   "metadata": {},
   "outputs": [],
   "source": [
    "#removing the unwanted columns \n",
    "df.drop(columns=['ID','Levy','Wheel', 'Color'],inplace=True)\n"
   ]
  },
  {
   "cell_type": "code",
   "execution_count": 131,
   "id": "7d47969b-7338-4f54-acce-01a52e0b52c5",
   "metadata": {},
   "outputs": [
    {
     "data": {
      "text/html": [
       "<div>\n",
       "<style scoped>\n",
       "    .dataframe tbody tr th:only-of-type {\n",
       "        vertical-align: middle;\n",
       "    }\n",
       "\n",
       "    .dataframe tbody tr th {\n",
       "        vertical-align: top;\n",
       "    }\n",
       "\n",
       "    .dataframe thead th {\n",
       "        text-align: right;\n",
       "    }\n",
       "</style>\n",
       "<table border=\"1\" class=\"dataframe\">\n",
       "  <thead>\n",
       "    <tr style=\"text-align: right;\">\n",
       "      <th></th>\n",
       "      <th>Price</th>\n",
       "      <th>Manufacturer</th>\n",
       "      <th>Model</th>\n",
       "      <th>Prod. year</th>\n",
       "      <th>Category</th>\n",
       "      <th>Leather interior</th>\n",
       "      <th>Fuel type</th>\n",
       "      <th>Engine volume</th>\n",
       "      <th>Mileage</th>\n",
       "      <th>Cylinders</th>\n",
       "      <th>Gear box type</th>\n",
       "      <th>Drive wheels</th>\n",
       "      <th>Doors</th>\n",
       "      <th>Airbags</th>\n",
       "    </tr>\n",
       "  </thead>\n",
       "  <tbody>\n",
       "    <tr>\n",
       "      <th>0</th>\n",
       "      <td>13328</td>\n",
       "      <td>LEXUS</td>\n",
       "      <td>RX 450</td>\n",
       "      <td>2010</td>\n",
       "      <td>Jeep</td>\n",
       "      <td>Yes</td>\n",
       "      <td>Hybrid</td>\n",
       "      <td>3.5</td>\n",
       "      <td>186005 km</td>\n",
       "      <td>6.0</td>\n",
       "      <td>Automatic</td>\n",
       "      <td>4x4</td>\n",
       "      <td>04-May</td>\n",
       "      <td>12</td>\n",
       "    </tr>\n",
       "    <tr>\n",
       "      <th>1</th>\n",
       "      <td>16621</td>\n",
       "      <td>CHEVROLET</td>\n",
       "      <td>Equinox</td>\n",
       "      <td>2011</td>\n",
       "      <td>Jeep</td>\n",
       "      <td>No</td>\n",
       "      <td>Petrol</td>\n",
       "      <td>3</td>\n",
       "      <td>192000 km</td>\n",
       "      <td>6.0</td>\n",
       "      <td>Tiptronic</td>\n",
       "      <td>4x4</td>\n",
       "      <td>04-May</td>\n",
       "      <td>8</td>\n",
       "    </tr>\n",
       "    <tr>\n",
       "      <th>2</th>\n",
       "      <td>8467</td>\n",
       "      <td>HONDA</td>\n",
       "      <td>FIT</td>\n",
       "      <td>2006</td>\n",
       "      <td>Hatchback</td>\n",
       "      <td>No</td>\n",
       "      <td>Petrol</td>\n",
       "      <td>1.3</td>\n",
       "      <td>200000 km</td>\n",
       "      <td>4.0</td>\n",
       "      <td>Variator</td>\n",
       "      <td>Front</td>\n",
       "      <td>04-May</td>\n",
       "      <td>2</td>\n",
       "    </tr>\n",
       "    <tr>\n",
       "      <th>3</th>\n",
       "      <td>3607</td>\n",
       "      <td>FORD</td>\n",
       "      <td>Escape</td>\n",
       "      <td>2011</td>\n",
       "      <td>Jeep</td>\n",
       "      <td>Yes</td>\n",
       "      <td>Hybrid</td>\n",
       "      <td>2.5</td>\n",
       "      <td>168966 km</td>\n",
       "      <td>4.0</td>\n",
       "      <td>Automatic</td>\n",
       "      <td>4x4</td>\n",
       "      <td>04-May</td>\n",
       "      <td>0</td>\n",
       "    </tr>\n",
       "    <tr>\n",
       "      <th>4</th>\n",
       "      <td>11726</td>\n",
       "      <td>HONDA</td>\n",
       "      <td>FIT</td>\n",
       "      <td>2014</td>\n",
       "      <td>Hatchback</td>\n",
       "      <td>Yes</td>\n",
       "      <td>Petrol</td>\n",
       "      <td>1.3</td>\n",
       "      <td>91901 km</td>\n",
       "      <td>4.0</td>\n",
       "      <td>Automatic</td>\n",
       "      <td>Front</td>\n",
       "      <td>04-May</td>\n",
       "      <td>4</td>\n",
       "    </tr>\n",
       "  </tbody>\n",
       "</table>\n",
       "</div>"
      ],
      "text/plain": [
       "   Price Manufacturer    Model  Prod. year   Category Leather interior  \\\n",
       "0  13328        LEXUS   RX 450        2010       Jeep              Yes   \n",
       "1  16621    CHEVROLET  Equinox        2011       Jeep               No   \n",
       "2   8467        HONDA      FIT        2006  Hatchback               No   \n",
       "3   3607         FORD   Escape        2011       Jeep              Yes   \n",
       "4  11726        HONDA      FIT        2014  Hatchback              Yes   \n",
       "\n",
       "  Fuel type Engine volume    Mileage  Cylinders Gear box type Drive wheels  \\\n",
       "0    Hybrid           3.5  186005 km        6.0     Automatic          4x4   \n",
       "1    Petrol             3  192000 km        6.0     Tiptronic          4x4   \n",
       "2    Petrol           1.3  200000 km        4.0      Variator        Front   \n",
       "3    Hybrid           2.5  168966 km        4.0     Automatic          4x4   \n",
       "4    Petrol           1.3   91901 km        4.0     Automatic        Front   \n",
       "\n",
       "    Doors  Airbags  \n",
       "0  04-May       12  \n",
       "1  04-May        8  \n",
       "2  04-May        2  \n",
       "3  04-May        0  \n",
       "4  04-May        4  "
      ]
     },
     "execution_count": 131,
     "metadata": {},
     "output_type": "execute_result"
    }
   ],
   "source": [
    "df.head()"
   ]
  },
  {
   "cell_type": "code",
   "execution_count": 132,
   "id": "660f7b7d-c579-4cab-bc26-f31916de3ff3",
   "metadata": {},
   "outputs": [
    {
     "data": {
      "text/plain": [
       "(19237, 14)"
      ]
     },
     "execution_count": 132,
     "metadata": {},
     "output_type": "execute_result"
    }
   ],
   "source": [
    "df.shape"
   ]
  },
  {
   "cell_type": "code",
   "execution_count": 133,
   "id": "4382fb2c-6073-490a-a9f9-5dd9ef25c585",
   "metadata": {},
   "outputs": [
    {
     "name": "stdout",
     "output_type": "stream",
     "text": [
      "<class 'pandas.core.frame.DataFrame'>\n",
      "RangeIndex: 19237 entries, 0 to 19236\n",
      "Data columns (total 14 columns):\n",
      " #   Column            Non-Null Count  Dtype  \n",
      "---  ------            --------------  -----  \n",
      " 0   Price             19237 non-null  int64  \n",
      " 1   Manufacturer      19237 non-null  object \n",
      " 2   Model             19237 non-null  object \n",
      " 3   Prod. year        19237 non-null  int64  \n",
      " 4   Category          19237 non-null  object \n",
      " 5   Leather interior  19237 non-null  object \n",
      " 6   Fuel type         19237 non-null  object \n",
      " 7   Engine volume     19237 non-null  object \n",
      " 8   Mileage           19237 non-null  object \n",
      " 9   Cylinders         19237 non-null  float64\n",
      " 10  Gear box type     19237 non-null  object \n",
      " 11  Drive wheels      19237 non-null  object \n",
      " 12  Doors             19237 non-null  object \n",
      " 13  Airbags           19237 non-null  int64  \n",
      "dtypes: float64(1), int64(3), object(10)\n",
      "memory usage: 2.1+ MB\n"
     ]
    }
   ],
   "source": [
    "df.info()"
   ]
  },
  {
   "cell_type": "code",
   "execution_count": 134,
   "id": "d75e2cef-7b93-4486-aecc-b1167c1a9b1f",
   "metadata": {},
   "outputs": [],
   "source": [
    "#rename the possible columns \n",
    "df.rename(columns={ 'Prod. year' : 'Prod_year', 'Leather interior':'Leather_interior','Fuel type':'Fuel_type','Engine volume':'Engine_volume','Gear box type':'Gear_box_type','Drive wheels':'Drive_wheels'},inplace=True)"
   ]
  },
  {
   "cell_type": "code",
   "execution_count": 135,
   "id": "06516aef-498f-41a1-a634-8f1c54d2a00a",
   "metadata": {},
   "outputs": [
    {
     "name": "stdout",
     "output_type": "stream",
     "text": [
      "<class 'pandas.core.frame.DataFrame'>\n",
      "RangeIndex: 19237 entries, 0 to 19236\n",
      "Data columns (total 14 columns):\n",
      " #   Column            Non-Null Count  Dtype  \n",
      "---  ------            --------------  -----  \n",
      " 0   Price             19237 non-null  int64  \n",
      " 1   Manufacturer      19237 non-null  object \n",
      " 2   Model             19237 non-null  object \n",
      " 3   Prod_year         19237 non-null  int64  \n",
      " 4   Category          19237 non-null  object \n",
      " 5   Leather_interior  19237 non-null  object \n",
      " 6   Fuel_type         19237 non-null  object \n",
      " 7   Engine_volume     19237 non-null  object \n",
      " 8   Mileage           19237 non-null  object \n",
      " 9   Cylinders         19237 non-null  float64\n",
      " 10  Gear_box_type     19237 non-null  object \n",
      " 11  Drive_wheels      19237 non-null  object \n",
      " 12  Doors             19237 non-null  object \n",
      " 13  Airbags           19237 non-null  int64  \n",
      "dtypes: float64(1), int64(3), object(10)\n",
      "memory usage: 2.1+ MB\n"
     ]
    }
   ],
   "source": [
    "df.info()"
   ]
  },
  {
   "cell_type": "code",
   "execution_count": 136,
   "id": "41ae492d-02da-4d51-a716-42400ad170fd",
   "metadata": {},
   "outputs": [],
   "source": [
    "continuous = ['Price','Engine_volume','Mileage']\n",
    "discreate_catagorical = ['Manufacturer','Model','Category','Leather_interior','Fuel_type','Gear_box_type','Drive_wheels']\n",
    "discrate_count = ['Cylinders','Doors']"
   ]
  },
  {
   "cell_type": "code",
   "execution_count": 137,
   "id": "ccb46a30-2ad3-4d65-9866-d86346059b06",
   "metadata": {},
   "outputs": [
    {
     "data": {
      "text/plain": [
       "<bound method Series.unique of 0        13328\n",
       "1        16621\n",
       "2         8467\n",
       "3         3607\n",
       "4        11726\n",
       "         ...  \n",
       "19232     8467\n",
       "19233    15681\n",
       "19234    26108\n",
       "19235     5331\n",
       "19236      470\n",
       "Name: Price, Length: 19237, dtype: int64>"
      ]
     },
     "execution_count": 137,
     "metadata": {},
     "output_type": "execute_result"
    }
   ],
   "source": [
    "df.Price.unique"
   ]
  },
  {
   "cell_type": "code",
   "execution_count": 138,
   "id": "d359d19a-4cb3-4e22-94f3-9401d37407ce",
   "metadata": {},
   "outputs": [
    {
     "data": {
      "text/plain": [
       "Price\n",
       "15681    280\n",
       "470      274\n",
       "14113    244\n",
       "392      242\n",
       "314      235\n",
       "        ... \n",
       "42601      1\n",
       "149        1\n",
       "54349      1\n",
       "54954      1\n",
       "22075      1\n",
       "Name: count, Length: 2315, dtype: int64"
      ]
     },
     "execution_count": 138,
     "metadata": {},
     "output_type": "execute_result"
    }
   ],
   "source": [
    "df.Price.value_counts()"
   ]
  },
  {
   "cell_type": "code",
   "execution_count": 139,
   "id": "8315fb29-a9d1-4e42-a35e-056944c23623",
   "metadata": {},
   "outputs": [],
   "source": [
    "# Remove non-numeric characters and convert to numeric (if valid)\n",
    "df['Engine_volume'] = df['Engine_volume'].replace(r'[^0-9.]+', '', regex=True).astype(float)"
   ]
  },
  {
   "cell_type": "code",
   "execution_count": 140,
   "id": "78744df5-228d-47ee-b2eb-aa48523749b2",
   "metadata": {},
   "outputs": [
    {
     "data": {
      "text/plain": [
       "array([ 3.5,  3. ,  1.3,  2.5,  2. ,  1.8,  2.4,  4. ,  1.6,  3.3,  2.2,\n",
       "        4.7,  1.5,  4.4,  1.4,  3.6,  2.3,  5.5,  2.8,  3.2,  3.8,  4.6,\n",
       "        1.2,  5. ,  1.7,  2.9,  0.5,  1.9,  2.7,  4.8,  5.3,  0.4,  1.1,\n",
       "        2.1,  0.7,  5.4,  3.7,  1. ,  2.6,  0.8,  0.2,  5.7,  6.7,  6.2,\n",
       "        3.4,  6.3,  4.3,  4.2,  0. , 20. ,  0.3,  5.9,  5.6,  6. ,  0.6,\n",
       "        6.8,  4.5,  7.3,  0.1,  3.1,  6.4,  3.9,  0.9,  5.2,  5.8])"
      ]
     },
     "execution_count": 140,
     "metadata": {},
     "output_type": "execute_result"
    }
   ],
   "source": [
    "df.Engine_volume.unique()\n"
   ]
  },
  {
   "cell_type": "code",
   "execution_count": 141,
   "id": "9ce7d8a2-df0b-4656-90d5-e0e9f2d90a38",
   "metadata": {},
   "outputs": [],
   "source": [
    "df['Mileage'] = df['Mileage'].replace(r'[^\\d.]', '', regex=True).astype(float)"
   ]
  },
  {
   "cell_type": "code",
   "execution_count": 142,
   "id": "d8b06db2-bea2-4608-9acb-565145f1acca",
   "metadata": {},
   "outputs": [
    {
     "data": {
      "text/plain": [
       "array([186005., 192000., 200000., ..., 140607., 307325., 186923.])"
      ]
     },
     "execution_count": 142,
     "metadata": {},
     "output_type": "execute_result"
    }
   ],
   "source": [
    "df.Mileage.unique()"
   ]
  },
  {
   "cell_type": "code",
   "execution_count": 143,
   "id": "598167a3-f329-4bac-952a-343c0fec4394",
   "metadata": {},
   "outputs": [
    {
     "data": {
      "text/plain": [
       "Mileage\n",
       "0.0         721\n",
       "200000.0    183\n",
       "150000.0    161\n",
       "160000.0    120\n",
       "100000.0    119\n",
       "           ... \n",
       "63083.0       1\n",
       "28750.0       1\n",
       "25077.0       1\n",
       "77452.0       1\n",
       "186923.0      1\n",
       "Name: count, Length: 7687, dtype: int64"
      ]
     },
     "execution_count": 143,
     "metadata": {},
     "output_type": "execute_result"
    }
   ],
   "source": [
    "df.Mileage.value_counts()"
   ]
  },
  {
   "cell_type": "code",
   "execution_count": 144,
   "id": "585baef0-ae33-4828-b246-f8fd749a6407",
   "metadata": {},
   "outputs": [
    {
     "name": "stdout",
     "output_type": "stream",
     "text": [
      "<class 'pandas.core.frame.DataFrame'>\n",
      "RangeIndex: 19237 entries, 0 to 19236\n",
      "Data columns (total 14 columns):\n",
      " #   Column            Non-Null Count  Dtype  \n",
      "---  ------            --------------  -----  \n",
      " 0   Price             19237 non-null  int64  \n",
      " 1   Manufacturer      19237 non-null  object \n",
      " 2   Model             19237 non-null  object \n",
      " 3   Prod_year         19237 non-null  int64  \n",
      " 4   Category          19237 non-null  object \n",
      " 5   Leather_interior  19237 non-null  object \n",
      " 6   Fuel_type         19237 non-null  object \n",
      " 7   Engine_volume     19237 non-null  float64\n",
      " 8   Mileage           19237 non-null  float64\n",
      " 9   Cylinders         19237 non-null  float64\n",
      " 10  Gear_box_type     19237 non-null  object \n",
      " 11  Drive_wheels      19237 non-null  object \n",
      " 12  Doors             19237 non-null  object \n",
      " 13  Airbags           19237 non-null  int64  \n",
      "dtypes: float64(3), int64(3), object(8)\n",
      "memory usage: 2.1+ MB\n"
     ]
    }
   ],
   "source": [
    "df.info()"
   ]
  },
  {
   "cell_type": "code",
   "execution_count": 145,
   "id": "de389c9e-e8bd-4a7c-a6e5-7180743c3d53",
   "metadata": {},
   "outputs": [
    {
     "data": {
      "text/plain": [
       "array(['LEXUS', 'CHEVROLET', 'HONDA', 'FORD', 'HYUNDAI', 'TOYOTA',\n",
       "       'MERCEDES-BENZ', 'OPEL', 'PORSCHE', 'BMW', 'JEEP', 'VOLKSWAGEN',\n",
       "       'AUDI', 'RENAULT', 'NISSAN', 'SUBARU', 'DAEWOO', 'KIA',\n",
       "       'MITSUBISHI', 'SSANGYONG', 'MAZDA', 'GMC', 'FIAT', 'INFINITI',\n",
       "       'ALFA ROMEO', 'SUZUKI', 'ACURA', 'LINCOLN', 'VAZ', 'GAZ',\n",
       "       'CITROEN', 'LAND ROVER', 'MINI', 'DODGE', 'CHRYSLER', 'JAGUAR',\n",
       "       'ISUZU', 'SKODA', 'DAIHATSU', 'BUICK', 'TESLA', 'CADILLAC',\n",
       "       'PEUGEOT', 'BENTLEY', 'VOLVO', 'სხვა', 'HAVAL', 'HUMMER', 'SCION',\n",
       "       'UAZ', 'MERCURY', 'ZAZ', 'ROVER', 'SEAT', 'LANCIA', 'MOSKVICH',\n",
       "       'MASERATI', 'FERRARI', 'SAAB', 'LAMBORGHINI', 'ROLLS-ROYCE',\n",
       "       'PONTIAC', 'SATURN', 'ASTON MARTIN', 'GREATWALL'], dtype=object)"
      ]
     },
     "execution_count": 145,
     "metadata": {},
     "output_type": "execute_result"
    }
   ],
   "source": [
    "df.Manufacturer.unique()"
   ]
  },
  {
   "cell_type": "code",
   "execution_count": 146,
   "id": "e9788b59-4285-4fff-aa34-3f01c77e6562",
   "metadata": {},
   "outputs": [
    {
     "data": {
      "text/plain": [
       "<bound method Series.unique of 0         RX 450\n",
       "1        Equinox\n",
       "2            FIT\n",
       "3         Escape\n",
       "4            FIT\n",
       "          ...   \n",
       "19232    CLK 200\n",
       "19233     Sonata\n",
       "19234     Tucson\n",
       "19235    Captiva\n",
       "19236     Sonata\n",
       "Name: Model, Length: 19237, dtype: object>"
      ]
     },
     "execution_count": 146,
     "metadata": {},
     "output_type": "execute_result"
    }
   ],
   "source": [
    "df.Model.unique"
   ]
  },
  {
   "cell_type": "code",
   "execution_count": 147,
   "id": "9f521ff4-0a08-4648-9fc2-37802829788b",
   "metadata": {},
   "outputs": [
    {
     "data": {
      "text/plain": [
       "array(['Jeep', 'Hatchback', 'Sedan', 'Microbus', 'Goods wagon',\n",
       "       'Universal', 'Coupe', 'Minivan', 'Cabriolet', 'Limousine',\n",
       "       'Pickup'], dtype=object)"
      ]
     },
     "execution_count": 147,
     "metadata": {},
     "output_type": "execute_result"
    }
   ],
   "source": [
    "df.Category.unique()\n"
   ]
  },
  {
   "cell_type": "code",
   "execution_count": 148,
   "id": "8907fc5d-ce95-4656-b729-3f6866233c11",
   "metadata": {},
   "outputs": [
    {
     "data": {
      "text/plain": [
       "Category\n",
       "Sedan          8736\n",
       "Jeep           5473\n",
       "Hatchback      2847\n",
       "Minivan         647\n",
       "Coupe           532\n",
       "Universal       364\n",
       "Microbus        306\n",
       "Goods wagon     233\n",
       "Pickup           52\n",
       "Cabriolet        36\n",
       "Limousine        11\n",
       "Name: count, dtype: int64"
      ]
     },
     "execution_count": 148,
     "metadata": {},
     "output_type": "execute_result"
    }
   ],
   "source": [
    "df.Category.value_counts()"
   ]
  },
  {
   "cell_type": "code",
   "execution_count": 149,
   "id": "b9623267-b71d-4c2d-8754-1a56994a06cc",
   "metadata": {},
   "outputs": [
    {
     "data": {
      "text/plain": [
       "array(['Automatic', 'Tiptronic', 'Variator', 'Manual'], dtype=object)"
      ]
     },
     "execution_count": 149,
     "metadata": {},
     "output_type": "execute_result"
    }
   ],
   "source": [
    "df.Gear_box_type.unique()"
   ]
  },
  {
   "cell_type": "code",
   "execution_count": 150,
   "id": "93e182aa-dfda-4da6-b61a-f2ce915f81c4",
   "metadata": {},
   "outputs": [
    {
     "data": {
      "text/plain": [
       "Gear_box_type\n",
       "Automatic    13514\n",
       "Tiptronic     3102\n",
       "Manual        1875\n",
       "Variator       746\n",
       "Name: count, dtype: int64"
      ]
     },
     "execution_count": 150,
     "metadata": {},
     "output_type": "execute_result"
    }
   ],
   "source": [
    "df.Gear_box_type.value_counts()\n"
   ]
  },
  {
   "cell_type": "code",
   "execution_count": 151,
   "id": "2585d3ff-2605-4d78-99cf-561afa2b1260",
   "metadata": {},
   "outputs": [
    {
     "data": {
      "text/plain": [
       "array(['4x4', 'Front', 'Rear'], dtype=object)"
      ]
     },
     "execution_count": 151,
     "metadata": {},
     "output_type": "execute_result"
    }
   ],
   "source": [
    "df.Drive_wheels.unique()"
   ]
  },
  {
   "cell_type": "code",
   "execution_count": 152,
   "id": "3adce6b6-0707-4779-9dd9-92f8d64d195d",
   "metadata": {},
   "outputs": [
    {
     "data": {
      "text/plain": [
       "Drive_wheels\n",
       "Front    12874\n",
       "4x4       4058\n",
       "Rear      2305\n",
       "Name: count, dtype: int64"
      ]
     },
     "execution_count": 152,
     "metadata": {},
     "output_type": "execute_result"
    }
   ],
   "source": [
    "df.Drive_wheels.value_counts()"
   ]
  },
  {
   "cell_type": "code",
   "execution_count": 153,
   "id": "f79dab1b-e1e8-4b38-9048-0c249df9782b",
   "metadata": {},
   "outputs": [
    {
     "name": "stdout",
     "output_type": "stream",
     "text": [
      "       Price   Manufacturer    Model  Prod_year   Category Leather_interior  \\\n",
      "0      13328          LEXUS   RX 450       2010       Jeep              Yes   \n",
      "1      16621      CHEVROLET  Equinox       2011       Jeep               No   \n",
      "2       8467          HONDA      FIT       2006  Hatchback               No   \n",
      "3       3607           FORD   Escape       2011       Jeep              Yes   \n",
      "4      11726          HONDA      FIT       2014  Hatchback              Yes   \n",
      "...      ...            ...      ...        ...        ...              ...   \n",
      "19232   8467  MERCEDES-BENZ  CLK 200       1999      Coupe              Yes   \n",
      "19233  15681        HYUNDAI   Sonata       2011      Sedan              Yes   \n",
      "19234  26108        HYUNDAI   Tucson       2010       Jeep              Yes   \n",
      "19235   5331      CHEVROLET  Captiva       2007       Jeep              Yes   \n",
      "19236    470        HYUNDAI   Sonata       2012      Sedan              Yes   \n",
      "\n",
      "      Fuel_type  Engine_volume   Mileage  Cylinders Gear_box_type  \\\n",
      "0        Hybrid            3.5  186005.0        6.0     Automatic   \n",
      "1        Petrol            3.0  192000.0        6.0     Tiptronic   \n",
      "2        Petrol            1.3  200000.0        4.0      Variator   \n",
      "3        Hybrid            2.5  168966.0        4.0     Automatic   \n",
      "4        Petrol            1.3   91901.0        4.0     Automatic   \n",
      "...         ...            ...       ...        ...           ...   \n",
      "19232       CNG            2.0  300000.0        4.0        Manual   \n",
      "19233    Petrol            2.4  161600.0        4.0     Tiptronic   \n",
      "19234    Diesel            2.0  116365.0        4.0     Automatic   \n",
      "19235    Diesel            2.0   51258.0        4.0     Automatic   \n",
      "19236    Hybrid            2.4  186923.0        4.0     Automatic   \n",
      "\n",
      "      Drive_wheels   Doors  Airbags  \n",
      "0              4x4  04-May       12  \n",
      "1              4x4  04-May        8  \n",
      "2            Front  04-May        2  \n",
      "3              4x4  04-May        0  \n",
      "4            Front  04-May        4  \n",
      "...            ...     ...      ...  \n",
      "19232         Rear  02-Mar        5  \n",
      "19233        Front  04-May        8  \n",
      "19234        Front  04-May        4  \n",
      "19235        Front  04-May        4  \n",
      "19236        Front  04-May       12  \n",
      "\n",
      "[19237 rows x 14 columns]\n"
     ]
    }
   ],
   "source": [
    "# Step 1: Handle outliers in Price\n",
    "price_upper_limit = 100000  # cap price at a maximum reasonable value\n",
    "df['Price'] = df['Price'].apply(lambda x: min(x, price_upper_limit))\n",
    "\n",
    "# Step 2: Handle Engine volume outliers and zero values\n",
    "df['Engine_volume'] = df['Engine_volume'].replace(0, np.nan)  # replace 0 with NaN\n",
    "df['Engine_volume'] = df['Engine_volume'].fillna(df['Engine_volume'].median())  # replace NaNs with median\n",
    "\n",
    "# Step 3: Handle Mileage outliers and zero values\n",
    "mileage_upper_limit = 1000000  # cap mileage at a reasonable upper limit (e.g., 1 million km)\n",
    "df['Mileage'] = df['Mileage'].apply(lambda x: min(x, mileage_upper_limit))  # cap mileage at max\n",
    "\n",
    "# Optionally, handle zero values in Mileage (replace with NaN if needed)\n",
    "df['Mileage'] = df['Mileage'].replace(0, np.nan)  # replace 0 with NaN\n",
    "df['Mileage'] = df['Mileage'].fillna(df['Mileage'].median())  # replace NaNs with median\n",
    "\n",
    "# Display cleaned data\n",
    "print(df)\n"
   ]
  },
  {
   "cell_type": "code",
   "execution_count": 154,
   "id": "cc334084-2499-4d4d-9fe9-3dd0d8e26ac9",
   "metadata": {},
   "outputs": [
    {
     "data": {
      "text/html": [
       "<div>\n",
       "<style scoped>\n",
       "    .dataframe tbody tr th:only-of-type {\n",
       "        vertical-align: middle;\n",
       "    }\n",
       "\n",
       "    .dataframe tbody tr th {\n",
       "        vertical-align: top;\n",
       "    }\n",
       "\n",
       "    .dataframe thead th {\n",
       "        text-align: right;\n",
       "    }\n",
       "</style>\n",
       "<table border=\"1\" class=\"dataframe\">\n",
       "  <thead>\n",
       "    <tr style=\"text-align: right;\">\n",
       "      <th></th>\n",
       "      <th>Price</th>\n",
       "      <th>Engine_volume</th>\n",
       "      <th>Mileage</th>\n",
       "    </tr>\n",
       "  </thead>\n",
       "  <tbody>\n",
       "    <tr>\n",
       "      <th>count</th>\n",
       "      <td>19237.000000</td>\n",
       "      <td>19237.000000</td>\n",
       "      <td>19237.000000</td>\n",
       "    </tr>\n",
       "    <tr>\n",
       "      <th>mean</th>\n",
       "      <td>16911.402714</td>\n",
       "      <td>2.309029</td>\n",
       "      <td>148173.624994</td>\n",
       "    </tr>\n",
       "    <tr>\n",
       "      <th>std</th>\n",
       "      <td>16717.969825</td>\n",
       "      <td>0.876253</td>\n",
       "      <td>112279.162186</td>\n",
       "    </tr>\n",
       "    <tr>\n",
       "      <th>min</th>\n",
       "      <td>1.000000</td>\n",
       "      <td>0.100000</td>\n",
       "      <td>13.000000</td>\n",
       "    </tr>\n",
       "    <tr>\n",
       "      <th>25%</th>\n",
       "      <td>5331.000000</td>\n",
       "      <td>1.800000</td>\n",
       "      <td>79080.000000</td>\n",
       "    </tr>\n",
       "    <tr>\n",
       "      <th>50%</th>\n",
       "      <td>13172.000000</td>\n",
       "      <td>2.000000</td>\n",
       "      <td>130000.000000</td>\n",
       "    </tr>\n",
       "    <tr>\n",
       "      <th>75%</th>\n",
       "      <td>22075.000000</td>\n",
       "      <td>2.500000</td>\n",
       "      <td>188888.000000</td>\n",
       "    </tr>\n",
       "    <tr>\n",
       "      <th>max</th>\n",
       "      <td>100000.000000</td>\n",
       "      <td>20.000000</td>\n",
       "      <td>1000000.000000</td>\n",
       "    </tr>\n",
       "  </tbody>\n",
       "</table>\n",
       "</div>"
      ],
      "text/plain": [
       "               Price  Engine_volume         Mileage\n",
       "count   19237.000000   19237.000000    19237.000000\n",
       "mean    16911.402714       2.309029   148173.624994\n",
       "std     16717.969825       0.876253   112279.162186\n",
       "min         1.000000       0.100000       13.000000\n",
       "25%      5331.000000       1.800000    79080.000000\n",
       "50%     13172.000000       2.000000   130000.000000\n",
       "75%     22075.000000       2.500000   188888.000000\n",
       "max    100000.000000      20.000000  1000000.000000"
      ]
     },
     "execution_count": 154,
     "metadata": {},
     "output_type": "execute_result"
    }
   ],
   "source": [
    "df[continuous].describe()"
   ]
  },
  {
   "cell_type": "code",
   "execution_count": 155,
   "id": "60c02a7f-9395-4922-85ba-36c3d3a9b9c9",
   "metadata": {},
   "outputs": [
    {
     "name": "stderr",
     "output_type": "stream",
     "text": [
      "C:\\Users\\dasar\\anaconda3\\Lib\\site-packages\\seaborn\\_oldcore.py:1119: FutureWarning: use_inf_as_na option is deprecated and will be removed in a future version. Convert inf values to NaN before operating instead.\n",
      "  with pd.option_context('mode.use_inf_as_na', True):\n",
      "C:\\Users\\dasar\\anaconda3\\Lib\\site-packages\\seaborn\\_oldcore.py:1119: FutureWarning: use_inf_as_na option is deprecated and will be removed in a future version. Convert inf values to NaN before operating instead.\n",
      "  with pd.option_context('mode.use_inf_as_na', True):\n",
      "C:\\Users\\dasar\\anaconda3\\Lib\\site-packages\\seaborn\\_oldcore.py:1119: FutureWarning: use_inf_as_na option is deprecated and will be removed in a future version. Convert inf values to NaN before operating instead.\n",
      "  with pd.option_context('mode.use_inf_as_na', True):\n"
     ]
    },
    {
     "data": {
      "text/plain": [
       "<Axes: xlabel='Mileage', ylabel='Count'>"
      ]
     },
     "execution_count": 155,
     "metadata": {},
     "output_type": "execute_result"
    },
    {
     "data": {
      "image/png": "[encoded data removed]",
      "text/plain": [
       "<Figure size 1800x800 with 3 Axes>"
      ]
     },
     "metadata": {},
     "output_type": "display_data"
    }
   ],
   "source": [
    "plt.rcParams['figure.figsize']=(18,8)\n",
    "\n",
    "plt.subplot(1,3,1)\n",
    "sns.histplot(df['Price'],kde=True)\n",
    "plt.subplot(1,3,2)\n",
    "sns.histplot(df['Engine_volume'],kde=True)\n",
    "plt.subplot(1,3,3)\n",
    "sns.histplot(df['Mileage'],kde=True)"
   ]
  },
  {
   "cell_type": "code",
   "execution_count": 156,
   "id": "6e260bf7-1105-4792-bbbd-295f47a7f7c5",
   "metadata": {},
   "outputs": [
    {
     "data": {
      "text/plain": [
       "Price            1.977763\n",
       "Engine_volume    2.203791\n",
       "Mileage          2.918416\n",
       "dtype: float64"
      ]
     },
     "execution_count": 156,
     "metadata": {},
     "output_type": "execute_result"
    }
   ],
   "source": [
    "df[continuous].skew()"
   ]
  },
  {
   "cell_type": "code",
   "execution_count": 157,
   "id": "9c6ef751-9508-4da5-9f9f-c686179453a9",
   "metadata": {},
   "outputs": [
    {
     "name": "stderr",
     "output_type": "stream",
     "text": [
      "C:\\Users\\dasar\\anaconda3\\Lib\\site-packages\\seaborn\\_oldcore.py:1119: FutureWarning: use_inf_as_na option is deprecated and will be removed in a future version. Convert inf values to NaN before operating instead.\n",
      "  with pd.option_context('mode.use_inf_as_na', True):\n",
      "C:\\Users\\dasar\\anaconda3\\Lib\\site-packages\\seaborn\\_oldcore.py:1119: FutureWarning: use_inf_as_na option is deprecated and will be removed in a future version. Convert inf values to NaN before operating instead.\n",
      "  with pd.option_context('mode.use_inf_as_na', True):\n",
      "C:\\Users\\dasar\\anaconda3\\Lib\\site-packages\\seaborn\\_oldcore.py:1119: FutureWarning: use_inf_as_na option is deprecated and will be removed in a future version. Convert inf values to NaN before operating instead.\n",
      "  with pd.option_context('mode.use_inf_as_na', True):\n"
     ]
    },
    {
     "data": {
      "image/png": "[encoded data removed]",
      "text/plain": [
       "<Figure size 750x750 with 12 Axes>"
      ]
     },
     "metadata": {},
     "output_type": "display_data"
    }
   ],
   "source": [
    "sns.pairplot(df[continuous])\n",
    "plt.show()"
   ]
  },
  {
   "cell_type": "code",
   "execution_count": 158,
   "id": "4753abbb-3c1e-45ee-8665-10cc47effbd2",
   "metadata": {},
   "outputs": [
    {
     "data": {
      "text/plain": [
       "<Axes: >"
      ]
     },
     "execution_count": 158,
     "metadata": {},
     "output_type": "execute_result"
    },
    {
     "data": {
      "image/png": "[encoded data removed]",
      "text/plain": [
       "<Figure size 1800x800 with 2 Axes>"
      ]
     },
     "metadata": {},
     "output_type": "display_data"
    }
   ],
   "source": [
    "sns.heatmap(df[continuous].corr(),annot=True,cmap='coolwarm',fmt='.2f',linewidths=0.5)"
   ]
  },
  {
   "cell_type": "code",
   "execution_count": 159,
   "id": "8f4ef1de-5bfb-44e3-abc2-c9908023c892",
   "metadata": {},
   "outputs": [
    {
     "data": {
      "text/html": [
       "<div>\n",
       "<style scoped>\n",
       "    .dataframe tbody tr th:only-of-type {\n",
       "        vertical-align: middle;\n",
       "    }\n",
       "\n",
       "    .dataframe tbody tr th {\n",
       "        vertical-align: top;\n",
       "    }\n",
       "\n",
       "    .dataframe thead th {\n",
       "        text-align: right;\n",
       "    }\n",
       "</style>\n",
       "<table border=\"1\" class=\"dataframe\">\n",
       "  <thead>\n",
       "    <tr style=\"text-align: right;\">\n",
       "      <th></th>\n",
       "      <th>Price</th>\n",
       "      <th>Engine_volume</th>\n",
       "      <th>Mileage</th>\n",
       "    </tr>\n",
       "  </thead>\n",
       "  <tbody>\n",
       "    <tr>\n",
       "      <th>Price</th>\n",
       "      <td>1.000000</td>\n",
       "      <td>0.123813</td>\n",
       "      <td>-0.229329</td>\n",
       "    </tr>\n",
       "    <tr>\n",
       "      <th>Engine_volume</th>\n",
       "      <td>0.123813</td>\n",
       "      <td>1.000000</td>\n",
       "      <td>0.112463</td>\n",
       "    </tr>\n",
       "    <tr>\n",
       "      <th>Mileage</th>\n",
       "      <td>-0.229329</td>\n",
       "      <td>0.112463</td>\n",
       "      <td>1.000000</td>\n",
       "    </tr>\n",
       "  </tbody>\n",
       "</table>\n",
       "</div>"
      ],
      "text/plain": [
       "                  Price  Engine_volume   Mileage\n",
       "Price          1.000000       0.123813 -0.229329\n",
       "Engine_volume  0.123813       1.000000  0.112463\n",
       "Mileage       -0.229329       0.112463  1.000000"
      ]
     },
     "execution_count": 159,
     "metadata": {},
     "output_type": "execute_result"
    }
   ],
   "source": [
    "df[continuous].corr()"
   ]
  },
  {
   "cell_type": "code",
   "execution_count": 160,
   "id": "564e28e5-ea43-4dc0-81b6-8febe4261418",
   "metadata": {},
   "outputs": [
    {
     "data": {
      "text/plain": [
       "<Axes: >"
      ]
     },
     "execution_count": 160,
     "metadata": {},
     "output_type": "execute_result"
    },
    {
     "data": {
      "image/png": "[encoded data removed]",
      "text/plain": [
       "<Figure size 1800x800 with 1 Axes>"
      ]
     },
     "metadata": {},
     "output_type": "display_data"
    }
   ],
   "source": [
    "sns.boxplot(df[continuous])"
   ]
  },
  {
   "cell_type": "code",
   "execution_count": 161,
   "id": "464b94fd-9bb4-487f-a1a4-14f5c6e76ffc",
   "metadata": {},
   "outputs": [
    {
     "data": {
      "text/html": [
       "<div>\n",
       "<style scoped>\n",
       "    .dataframe tbody tr th:only-of-type {\n",
       "        vertical-align: middle;\n",
       "    }\n",
       "\n",
       "    .dataframe tbody tr th {\n",
       "        vertical-align: top;\n",
       "    }\n",
       "\n",
       "    .dataframe thead th {\n",
       "        text-align: right;\n",
       "    }\n",
       "</style>\n",
       "<table border=\"1\" class=\"dataframe\">\n",
       "  <thead>\n",
       "    <tr style=\"text-align: right;\">\n",
       "      <th></th>\n",
       "      <th>Manufacturer</th>\n",
       "      <th>Model</th>\n",
       "      <th>Category</th>\n",
       "      <th>Leather_interior</th>\n",
       "      <th>Fuel_type</th>\n",
       "      <th>Gear_box_type</th>\n",
       "      <th>Drive_wheels</th>\n",
       "    </tr>\n",
       "  </thead>\n",
       "  <tbody>\n",
       "    <tr>\n",
       "      <th>count</th>\n",
       "      <td>19237</td>\n",
       "      <td>19237</td>\n",
       "      <td>19237</td>\n",
       "      <td>19237</td>\n",
       "      <td>19237</td>\n",
       "      <td>19237</td>\n",
       "      <td>19237</td>\n",
       "    </tr>\n",
       "    <tr>\n",
       "      <th>unique</th>\n",
       "      <td>65</td>\n",
       "      <td>1590</td>\n",
       "      <td>11</td>\n",
       "      <td>2</td>\n",
       "      <td>7</td>\n",
       "      <td>4</td>\n",
       "      <td>3</td>\n",
       "    </tr>\n",
       "    <tr>\n",
       "      <th>top</th>\n",
       "      <td>HYUNDAI</td>\n",
       "      <td>Prius</td>\n",
       "      <td>Sedan</td>\n",
       "      <td>Yes</td>\n",
       "      <td>Petrol</td>\n",
       "      <td>Automatic</td>\n",
       "      <td>Front</td>\n",
       "    </tr>\n",
       "    <tr>\n",
       "      <th>freq</th>\n",
       "      <td>3769</td>\n",
       "      <td>1083</td>\n",
       "      <td>8736</td>\n",
       "      <td>13954</td>\n",
       "      <td>10150</td>\n",
       "      <td>13514</td>\n",
       "      <td>12874</td>\n",
       "    </tr>\n",
       "  </tbody>\n",
       "</table>\n",
       "</div>"
      ],
      "text/plain": [
       "       Manufacturer  Model Category Leather_interior Fuel_type Gear_box_type  \\\n",
       "count         19237  19237    19237            19237     19237         19237   \n",
       "unique           65   1590       11                2         7             4   \n",
       "top         HYUNDAI  Prius    Sedan              Yes    Petrol     Automatic   \n",
       "freq           3769   1083     8736            13954     10150         13514   \n",
       "\n",
       "       Drive_wheels  \n",
       "count         19237  \n",
       "unique            3  \n",
       "top           Front  \n",
       "freq          12874  "
      ]
     },
     "execution_count": 161,
     "metadata": {},
     "output_type": "execute_result"
    }
   ],
   "source": [
    "df[discreate_catagorical].describe()"
   ]
  },
  {
   "cell_type": "code",
   "execution_count": 162,
   "id": "fa9e99be-68a4-4ef1-b084-3505fcad10ea",
   "metadata": {},
   "outputs": [],
   "source": [
    " #data pre-processing"
   ]
  },
  {
   "cell_type": "code",
   "execution_count": 163,
   "id": "5e0da013-2daf-4a44-b5fb-1ba0750508d9",
   "metadata": {},
   "outputs": [
    {
     "data": {
      "text/plain": [
       "Price               0\n",
       "Manufacturer        0\n",
       "Model               0\n",
       "Prod_year           0\n",
       "Category            0\n",
       "Leather_interior    0\n",
       "Fuel_type           0\n",
       "Engine_volume       0\n",
       "Mileage             0\n",
       "Cylinders           0\n",
       "Gear_box_type       0\n",
       "Drive_wheels        0\n",
       "Doors               0\n",
       "Airbags             0\n",
       "dtype: int64"
      ]
     },
     "execution_count": 163,
     "metadata": {},
     "output_type": "execute_result"
    }
   ],
   "source": [
    "#finding missing values\n",
    "df.isnull().sum()"
   ]
  },
  {
   "cell_type": "code",
   "execution_count": 164,
   "id": "059c6a4f-256b-4fb7-89a4-abce58171603",
   "metadata": {},
   "outputs": [
    {
     "data": {
      "text/plain": [
       "3522"
      ]
     },
     "execution_count": 164,
     "metadata": {},
     "output_type": "execute_result"
    }
   ],
   "source": [
    "#checking duplicates\n",
    "df.duplicated().sum()"
   ]
  },
  {
   "cell_type": "code",
   "execution_count": 165,
   "id": "a2909f6a-d841-494f-acfc-ee4ac4431cd4",
   "metadata": {},
   "outputs": [],
   "source": [
    "df=df.drop_duplicates(inplace=False)\n"
   ]
  },
  {
   "cell_type": "code",
   "execution_count": 166,
   "id": "462d457f-8408-4f00-b202-5bd519240258",
   "metadata": {},
   "outputs": [
    {
     "data": {
      "text/plain": [
       "0"
      ]
     },
     "execution_count": 166,
     "metadata": {},
     "output_type": "execute_result"
    }
   ],
   "source": [
    "df.duplicated().sum()"
   ]
  },
  {
   "cell_type": "code",
   "execution_count": 167,
   "id": "0a140a73-ebc7-4749-9af5-20909a8c46ce",
   "metadata": {},
   "outputs": [
    {
     "data": {
      "text/html": [
       "<div>\n",
       "<style scoped>\n",
       "    .dataframe tbody tr th:only-of-type {\n",
       "        vertical-align: middle;\n",
       "    }\n",
       "\n",
       "    .dataframe tbody tr th {\n",
       "        vertical-align: top;\n",
       "    }\n",
       "\n",
       "    .dataframe thead th {\n",
       "        text-align: right;\n",
       "    }\n",
       "</style>\n",
       "<table border=\"1\" class=\"dataframe\">\n",
       "  <thead>\n",
       "    <tr style=\"text-align: right;\">\n",
       "      <th></th>\n",
       "      <th>Price</th>\n",
       "      <th>Manufacturer</th>\n",
       "      <th>Model</th>\n",
       "      <th>Prod_year</th>\n",
       "      <th>Category</th>\n",
       "      <th>Leather_interior</th>\n",
       "      <th>Fuel_type</th>\n",
       "      <th>Engine_volume</th>\n",
       "      <th>Mileage</th>\n",
       "      <th>Cylinders</th>\n",
       "      <th>Gear_box_type</th>\n",
       "      <th>Drive_wheels</th>\n",
       "      <th>Doors</th>\n",
       "      <th>Airbags</th>\n",
       "    </tr>\n",
       "  </thead>\n",
       "  <tbody>\n",
       "    <tr>\n",
       "      <th>0</th>\n",
       "      <td>13328</td>\n",
       "      <td>LEXUS</td>\n",
       "      <td>RX 450</td>\n",
       "      <td>2010</td>\n",
       "      <td>Jeep</td>\n",
       "      <td>Yes</td>\n",
       "      <td>Hybrid</td>\n",
       "      <td>3.5</td>\n",
       "      <td>186005.0</td>\n",
       "      <td>6.0</td>\n",
       "      <td>Automatic</td>\n",
       "      <td>4x4</td>\n",
       "      <td>04-May</td>\n",
       "      <td>12</td>\n",
       "    </tr>\n",
       "    <tr>\n",
       "      <th>1</th>\n",
       "      <td>16621</td>\n",
       "      <td>CHEVROLET</td>\n",
       "      <td>Equinox</td>\n",
       "      <td>2011</td>\n",
       "      <td>Jeep</td>\n",
       "      <td>No</td>\n",
       "      <td>Petrol</td>\n",
       "      <td>3.0</td>\n",
       "      <td>192000.0</td>\n",
       "      <td>6.0</td>\n",
       "      <td>Tiptronic</td>\n",
       "      <td>4x4</td>\n",
       "      <td>04-May</td>\n",
       "      <td>8</td>\n",
       "    </tr>\n",
       "    <tr>\n",
       "      <th>2</th>\n",
       "      <td>8467</td>\n",
       "      <td>HONDA</td>\n",
       "      <td>FIT</td>\n",
       "      <td>2006</td>\n",
       "      <td>Hatchback</td>\n",
       "      <td>No</td>\n",
       "      <td>Petrol</td>\n",
       "      <td>1.3</td>\n",
       "      <td>200000.0</td>\n",
       "      <td>4.0</td>\n",
       "      <td>Variator</td>\n",
       "      <td>Front</td>\n",
       "      <td>04-May</td>\n",
       "      <td>2</td>\n",
       "    </tr>\n",
       "    <tr>\n",
       "      <th>3</th>\n",
       "      <td>3607</td>\n",
       "      <td>FORD</td>\n",
       "      <td>Escape</td>\n",
       "      <td>2011</td>\n",
       "      <td>Jeep</td>\n",
       "      <td>Yes</td>\n",
       "      <td>Hybrid</td>\n",
       "      <td>2.5</td>\n",
       "      <td>168966.0</td>\n",
       "      <td>4.0</td>\n",
       "      <td>Automatic</td>\n",
       "      <td>4x4</td>\n",
       "      <td>04-May</td>\n",
       "      <td>0</td>\n",
       "    </tr>\n",
       "    <tr>\n",
       "      <th>4</th>\n",
       "      <td>11726</td>\n",
       "      <td>HONDA</td>\n",
       "      <td>FIT</td>\n",
       "      <td>2014</td>\n",
       "      <td>Hatchback</td>\n",
       "      <td>Yes</td>\n",
       "      <td>Petrol</td>\n",
       "      <td>1.3</td>\n",
       "      <td>91901.0</td>\n",
       "      <td>4.0</td>\n",
       "      <td>Automatic</td>\n",
       "      <td>Front</td>\n",
       "      <td>04-May</td>\n",
       "      <td>4</td>\n",
       "    </tr>\n",
       "  </tbody>\n",
       "</table>\n",
       "</div>"
      ],
      "text/plain": [
       "   Price Manufacturer    Model  Prod_year   Category Leather_interior  \\\n",
       "0  13328        LEXUS   RX 450       2010       Jeep              Yes   \n",
       "1  16621    CHEVROLET  Equinox       2011       Jeep               No   \n",
       "2   8467        HONDA      FIT       2006  Hatchback               No   \n",
       "3   3607         FORD   Escape       2011       Jeep              Yes   \n",
       "4  11726        HONDA      FIT       2014  Hatchback              Yes   \n",
       "\n",
       "  Fuel_type  Engine_volume   Mileage  Cylinders Gear_box_type Drive_wheels  \\\n",
       "0    Hybrid            3.5  186005.0        6.0     Automatic          4x4   \n",
       "1    Petrol            3.0  192000.0        6.0     Tiptronic          4x4   \n",
       "2    Petrol            1.3  200000.0        4.0      Variator        Front   \n",
       "3    Hybrid            2.5  168966.0        4.0     Automatic          4x4   \n",
       "4    Petrol            1.3   91901.0        4.0     Automatic        Front   \n",
       "\n",
       "    Doors  Airbags  \n",
       "0  04-May       12  \n",
       "1  04-May        8  \n",
       "2  04-May        2  \n",
       "3  04-May        0  \n",
       "4  04-May        4  "
      ]
     },
     "execution_count": 167,
     "metadata": {},
     "output_type": "execute_result"
    }
   ],
   "source": [
    "df.head()\n"
   ]
  },
  {
   "cell_type": "code",
   "execution_count": 168,
   "id": "025ea394-adfc-455d-bc3d-82b89c033ea9",
   "metadata": {},
   "outputs": [
    {
     "data": {
      "text/plain": [
       "Gear_box_type\n",
       "Automatic    10079\n",
       "Tiptronic     3064\n",
       "Manual        1841\n",
       "Variator       731\n",
       "Name: count, dtype: int64"
      ]
     },
     "execution_count": 168,
     "metadata": {},
     "output_type": "execute_result"
    }
   ],
   "source": [
    "df.Gear_box_type.value_counts()"
   ]
  },
  {
   "cell_type": "code",
   "execution_count": 169,
   "id": "d67b4378-9296-4feb-ad35-4070a70dc3d8",
   "metadata": {},
   "outputs": [],
   "source": [
    "df['Leather_interior'] = df['Leather_interior'].fillna('No')\n",
    "df['Gear_box_type'] = df['Gear_box_type'].fillna('Manual')\n"
   ]
  },
  {
   "cell_type": "code",
   "execution_count": 170,
   "id": "60d73198-c80b-498a-b880-3f26653d5745",
   "metadata": {},
   "outputs": [],
   "source": [
    "df['Leather_interior']=df['Leather_interior'].map({'Yes':1,'No':0}).astype(int)\n",
    "\n"
   ]
  },
  {
   "cell_type": "code",
   "execution_count": 171,
   "id": "00af8e97-a93b-4297-901b-9c40e97bac87",
   "metadata": {},
   "outputs": [],
   "source": [
    "#Handle missing and infinite values\n",
    "df['Gear_box_type'].fillna('Other', inplace=True)  # Fill NaN with 'Other'\n",
    "df['Gear_box_type'].replace([float('inf'), -float('inf')], 'Other', inplace=True)  # Replace inf with 'Other'\n",
    "\n",
    "# Map the categories to integers\n",
    "df['Gear_box_type'] = df['Gear_box_type'].map({\n",
    "    'Automatic': 0,\n",
    "    'Tiptronic': 1,\n",
    "    'Manual': 2,\n",
    "    'Variator': 3,\n",
    "    'Other': 4  # Map 'Other' to an integer\n",
    "}).astype(int)\n"
   ]
  },
  {
   "cell_type": "code",
   "execution_count": 172,
   "id": "cfe4a417-a194-4f35-9f11-a026e3ab9245",
   "metadata": {},
   "outputs": [],
   "source": [
    "df.drop(columns=['Doors'], inplace=True)\n",
    "\n"
   ]
  },
  {
   "cell_type": "code",
   "execution_count": 173,
   "id": "62250960-5b1c-4eba-a562-1064f7b030d4",
   "metadata": {},
   "outputs": [],
   "source": [
    "df['Fuel_type']=df['Fuel_type'].map({'Petrol':0,'Diesel':1,'Hybrid':2,'LPG':3,'CNG':4,'Plug-in Hybrid':5,'Hydrogen':6})\n"
   ]
  },
  {
   "cell_type": "code",
   "execution_count": 174,
   "id": "8e9577ed-dafc-40b1-a8bd-620919d14588",
   "metadata": {},
   "outputs": [],
   "source": [
    "df['Drive_wheels']=df['Drive_wheels'].map({'Front':0,'4x4':1,'Rear':2})"
   ]
  },
  {
   "cell_type": "code",
   "execution_count": 175,
   "id": "e01dc170-f201-4a70-b8b1-14176c7df127",
   "metadata": {},
   "outputs": [],
   "source": [
    "from sklearn.preprocessing import LabelEncoder\n",
    "from scipy.stats import boxcox\n",
    "\n",
    "label_encoder = LabelEncoder()\n",
    "df['Manufacturer'] = label_encoder.fit_transform(df['Manufacturer'])\n",
    "df['Model'] = label_encoder.fit_transform(df['Model'])\n",
    "df['Category'] = label_encoder.fit_transform(df['Category'])\n",
    "\n"
   ]
  },
  {
   "cell_type": "code",
   "execution_count": 176,
   "id": "512bbcd1-717e-4589-945a-f565ecb66ea4",
   "metadata": {},
   "outputs": [
    {
     "name": "stdout",
     "output_type": "stream",
     "text": [
      "<class 'pandas.core.frame.DataFrame'>\n",
      "Index: 15715 entries, 0 to 19236\n",
      "Data columns (total 13 columns):\n",
      " #   Column            Non-Null Count  Dtype  \n",
      "---  ------            --------------  -----  \n",
      " 0   Price             15715 non-null  int64  \n",
      " 1   Manufacturer      15715 non-null  int32  \n",
      " 2   Model             15715 non-null  int32  \n",
      " 3   Prod_year         15715 non-null  int64  \n",
      " 4   Category          15715 non-null  int32  \n",
      " 5   Leather_interior  15715 non-null  int32  \n",
      " 6   Fuel_type         15715 non-null  int64  \n",
      " 7   Engine_volume     15715 non-null  float64\n",
      " 8   Mileage           15715 non-null  float64\n",
      " 9   Cylinders         15715 non-null  float64\n",
      " 10  Gear_box_type     15715 non-null  int32  \n",
      " 11  Drive_wheels      15715 non-null  int64  \n",
      " 12  Airbags           15715 non-null  int64  \n",
      "dtypes: float64(3), int32(5), int64(5)\n",
      "memory usage: 1.4 MB\n"
     ]
    }
   ],
   "source": [
    "df.info()"
   ]
  },
  {
   "cell_type": "code",
   "execution_count": 177,
   "id": "999b1d96-e2df-4a2c-b2c0-27ab8680d116",
   "metadata": {},
   "outputs": [
    {
     "data": {
      "text/html": [
       "<div>\n",
       "<style scoped>\n",
       "    .dataframe tbody tr th:only-of-type {\n",
       "        vertical-align: middle;\n",
       "    }\n",
       "\n",
       "    .dataframe tbody tr th {\n",
       "        vertical-align: top;\n",
       "    }\n",
       "\n",
       "    .dataframe thead th {\n",
       "        text-align: right;\n",
       "    }\n",
       "</style>\n",
       "<table border=\"1\" class=\"dataframe\">\n",
       "  <thead>\n",
       "    <tr style=\"text-align: right;\">\n",
       "      <th></th>\n",
       "      <th>Price</th>\n",
       "      <th>Engine_volume</th>\n",
       "      <th>Mileage</th>\n",
       "    </tr>\n",
       "  </thead>\n",
       "  <tbody>\n",
       "    <tr>\n",
       "      <th>0</th>\n",
       "      <td>13328</td>\n",
       "      <td>3.5</td>\n",
       "      <td>186005.0</td>\n",
       "    </tr>\n",
       "    <tr>\n",
       "      <th>1</th>\n",
       "      <td>16621</td>\n",
       "      <td>3.0</td>\n",
       "      <td>192000.0</td>\n",
       "    </tr>\n",
       "    <tr>\n",
       "      <th>2</th>\n",
       "      <td>8467</td>\n",
       "      <td>1.3</td>\n",
       "      <td>200000.0</td>\n",
       "    </tr>\n",
       "    <tr>\n",
       "      <th>3</th>\n",
       "      <td>3607</td>\n",
       "      <td>2.5</td>\n",
       "      <td>168966.0</td>\n",
       "    </tr>\n",
       "    <tr>\n",
       "      <th>4</th>\n",
       "      <td>11726</td>\n",
       "      <td>1.3</td>\n",
       "      <td>91901.0</td>\n",
       "    </tr>\n",
       "    <tr>\n",
       "      <th>...</th>\n",
       "      <td>...</td>\n",
       "      <td>...</td>\n",
       "      <td>...</td>\n",
       "    </tr>\n",
       "    <tr>\n",
       "      <th>19230</th>\n",
       "      <td>470</td>\n",
       "      <td>1.8</td>\n",
       "      <td>307325.0</td>\n",
       "    </tr>\n",
       "    <tr>\n",
       "      <th>19232</th>\n",
       "      <td>8467</td>\n",
       "      <td>2.0</td>\n",
       "      <td>300000.0</td>\n",
       "    </tr>\n",
       "    <tr>\n",
       "      <th>19233</th>\n",
       "      <td>15681</td>\n",
       "      <td>2.4</td>\n",
       "      <td>161600.0</td>\n",
       "    </tr>\n",
       "    <tr>\n",
       "      <th>19234</th>\n",
       "      <td>26108</td>\n",
       "      <td>2.0</td>\n",
       "      <td>116365.0</td>\n",
       "    </tr>\n",
       "    <tr>\n",
       "      <th>19236</th>\n",
       "      <td>470</td>\n",
       "      <td>2.4</td>\n",
       "      <td>186923.0</td>\n",
       "    </tr>\n",
       "  </tbody>\n",
       "</table>\n",
       "<p>15715 rows × 3 columns</p>\n",
       "</div>"
      ],
      "text/plain": [
       "       Price  Engine_volume   Mileage\n",
       "0      13328            3.5  186005.0\n",
       "1      16621            3.0  192000.0\n",
       "2       8467            1.3  200000.0\n",
       "3       3607            2.5  168966.0\n",
       "4      11726            1.3   91901.0\n",
       "...      ...            ...       ...\n",
       "19230    470            1.8  307325.0\n",
       "19232   8467            2.0  300000.0\n",
       "19233  15681            2.4  161600.0\n",
       "19234  26108            2.0  116365.0\n",
       "19236    470            2.4  186923.0\n",
       "\n",
       "[15715 rows x 3 columns]"
      ]
     },
     "execution_count": 177,
     "metadata": {},
     "output_type": "execute_result"
    }
   ],
   "source": [
    "df[continuous]\n"
   ]
  },
  {
   "cell_type": "code",
   "execution_count": 178,
   "id": "d03af6df-92ff-4e8a-a161-7d90d384c1a6",
   "metadata": {},
   "outputs": [],
   "source": [
    "df['Price'],a=boxcox(df['Price'])\n",
    "df['Engine_volume'],b=boxcox(df['Engine_volume'])\n",
    "df['Mileage'],b=boxcox(df['Mileage'])\n"
   ]
  },
  {
   "cell_type": "code",
   "execution_count": 179,
   "id": "5d407aeb-64a7-4c63-a0b9-fe4fcc63b063",
   "metadata": {},
   "outputs": [
    {
     "data": {
      "text/plain": [
       "Price           -0.041519\n",
       "Engine_volume   -0.004143\n",
       "Mileage          0.146931\n",
       "dtype: float64"
      ]
     },
     "execution_count": 179,
     "metadata": {},
     "output_type": "execute_result"
    }
   ],
   "source": [
    "df[continuous].skew()"
   ]
  },
  {
   "cell_type": "code",
   "execution_count": 180,
   "id": "4925cda7-27bf-4e9e-9de9-1bdc414c9691",
   "metadata": {},
   "outputs": [],
   "source": [
    "from sklearn.model_selection import train_test_split\n",
    "X = df.drop(columns=[\"Price\"]) \n",
    "y = df[\"Price\"]  \n",
    "\n",
    "# Split the dataset\n",
    "X_train, X_test, y_train, y_test = train_test_split(\n",
    "    X, y, test_size=0.2, random_state=42\n",
    ")"
   ]
  },
  {
   "cell_type": "code",
   "execution_count": 181,
   "id": "b5f2f5b8-12e2-4b8d-9919-52ce76cf36f6",
   "metadata": {},
   "outputs": [
    {
     "name": "stdout",
     "output_type": "stream",
     "text": [
      "Linear Regression RMSE: 32.8109112764213\n"
     ]
    }
   ],
   "source": [
    "from sklearn.linear_model import LinearRegression\n",
    "from sklearn.metrics import mean_squared_error\n",
    "\n",
    "\n",
    "# Initialize and train the model\n",
    "lr_model = LinearRegression()\n",
    "lr_model.fit(X_train, y_train)\n",
    "\n",
    "# Predict and evaluate\n",
    "y_pred_lr = lr_model.predict(X_test)\n",
    "rmse_lr = np.sqrt(mean_squared_error(y_test, y_pred_lr))\n",
    "print(f\"Linear Regression RMSE: {rmse_lr}\")\n"
   ]
  },
  {
   "cell_type": "code",
   "execution_count": 182,
   "id": "272f4288-5a56-4f27-9302-39046c35d925",
   "metadata": {},
   "outputs": [
    {
     "name": "stdout",
     "output_type": "stream",
     "text": [
      "Random Forest RMSE: 23.197915938551677\n"
     ]
    }
   ],
   "source": [
    "from sklearn.ensemble import RandomForestRegressor\n",
    "\n",
    "# Initialize and train the model\n",
    "rf_model = RandomForestRegressor(n_estimators=100, max_depth=10, random_state=42)\n",
    "rf_model.fit(X_train, y_train)\n",
    "\n",
    "# Predict and evaluate\n",
    "y_pred_rf = rf_model.predict(X_test)\n",
    "rmse_rf = np.sqrt(mean_squared_error(y_test, y_pred_rf))\n",
    "print(f\"Random Forest RMSE: {rmse_rf}\")\n"
   ]
  },
  {
   "cell_type": "code",
   "execution_count": 184,
   "id": "5dd7d617-e7f2-47b3-a6d9-75e17db9098e",
   "metadata": {},
   "outputs": [
    {
     "name": "stdout",
     "output_type": "stream",
     "text": [
      "Requirement already satisfied: xgboost in c:\\users\\dasar\\anaconda3\\lib\\site-packages (2.1.2)\n",
      "Requirement already satisfied: numpy in c:\\users\\dasar\\anaconda3\\lib\\site-packages (from xgboost) (1.26.4)\n",
      "Requirement already satisfied: scipy in c:\\users\\dasar\\anaconda3\\lib\\site-packages (from xgboost) (1.11.4)\n",
      "XGBoost RMSE: 23.011937261258456\n"
     ]
    }
   ],
   "source": [
    "!pip install xgboost\n",
    "from xgboost import XGBRegressor\n",
    "\n",
    "# Initialize and train the model\n",
    "xgb_model = XGBRegressor(n_estimators=100, learning_rate=0.1, max_depth=6, random_state=42)\n",
    "xgb_model.fit(X_train, y_train)\n",
    "\n",
    "# Predict and evaluate\n",
    "y_pred_xgb = xgb_model.predict(X_test)\n",
    "rmse_xgb = np.sqrt(mean_squared_error(y_test, y_pred_xgb))\n",
    "print(f\"XGBoost RMSE: {rmse_xgb}\")\n"
   ]
  },
  {
   "cell_type": "code",
   "execution_count": 185,
   "id": "614af5a9-bd0e-488d-914a-7d3245dcb638",
   "metadata": {},
   "outputs": [
    {
     "name": "stdout",
     "output_type": "stream",
     "text": [
      "\n",
      "Model Comparison:\n",
      "Linear Regression RMSE: 32.8109112764213\n",
      "Random Forest RMSE: 23.197915938551677\n",
      "XGBoost RMSE: 23.011937261258456\n",
      "\n"
     ]
    }
   ],
   "source": [
    "print(f\"\"\"\n",
    "Model Comparison:\n",
    "Linear Regression RMSE: {rmse_lr}\n",
    "Random Forest RMSE: {rmse_rf}\n",
    "XGBoost RMSE: {rmse_xgb}\n",
    "\"\"\")\n"
   ]
  },
  {
   "cell_type": "code",
   "execution_count": null,
   "id": "4a52f02c-ff3c-48bd-9ca2-dbbb2d38a70f",
   "metadata": {},
   "outputs": [],
   "source": [
    "import joblib\n",
    "joblib.dump(best_rf_model, \"best_car_price_model.pkl\")\n",
    "loaded_model = joblib.load(\"best_car_price_model.pkl\")\n"
   ]
  },
  {
   "cell_type": "code",
   "execution_count": null,
   "id": "f6fc1586-7382-4afc-8e43-5b11e08f0fba",
   "metadata": {},
   "outputs": [],
   "source": [
    "df.to_csv('car_price_over.csv', index=False)"
   ]
  },
  {
   "cell_type": "code",
   "execution_count": null,
   "id": "5748b1d2-13f4-4c67-8c57-91dc6a0f51f8",
   "metadata": {},
   "outputs": [],
   "source": []
  }
 ],
 "metadata": {
  "kernelspec": {
   "display_name": "Python 3 (ipykernel)",
   "language": "python",
   "name": "python3"
  },
  "language_info": {
   "codemirror_mode": {
    "name": "ipython",
    "version": 3
   },
   "file_extension": ".py",
   "mimetype": "text/x-python",
   "name": "python",
   "nbconvert_exporter": "python",
   "pygments_lexer": "ipython3",
   "version": "3.11.7"
  }
 },
 "nbformat": 4,
 "nbformat_minor": 5
}
